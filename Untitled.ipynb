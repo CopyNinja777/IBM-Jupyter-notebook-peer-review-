{
 "cells": [
  {
   "cell_type": "markdown",
   "id": "2177ac3e-5497-41b5-80d4-b4ac5dce6c21",
   "metadata": {},
   "source": [
    "# My Jupyter Notebook on IBM Watson Studio"
   ]
  },
  {
   "cell_type": "markdown",
   "id": "c8f739b8-289a-4a8c-874b-a106d4cb9eac",
   "metadata": {},
   "source": [
    "**Daniel** \n",
    "\n",
    "My desired occupation is data scientist "
   ]
  },
  {
   "cell_type": "markdown",
   "id": "be656f64-31e3-4d46-8ca7-ef21eb29d419",
   "metadata": {},
   "source": [
    "*I am interested in data science because it allows me to work flexibly with interesting topics and environments while potentially helping people*"
   ]
  },
  {
   "cell_type": "markdown",
   "id": "d872c221-e079-47fd-ae3e-76de06b99504",
   "metadata": {},
   "source": [
    "### The code bellow adds 1 to 1 and should give an output of 2"
   ]
  },
  {
   "cell_type": "code",
   "execution_count": 2,
   "id": "cb254fae-1815-4573-9e75-9ddaa7bdb735",
   "metadata": {},
   "outputs": [
    {
     "name": "stdout",
     "output_type": "stream",
     "text": [
      "2\n"
     ]
    }
   ],
   "source": [
    "print(1 +1) "
   ]
  },
  {
   "cell_type": "markdown",
   "id": "6f1a2a73-2027-46a9-8270-ae6c72a7f01d",
   "metadata": {},
   "source": [
    "* This\n",
    "* Is\n",
    "* A\n",
    "* Bulleted \n",
    "* List \n",
    "\n",
    "\n",
    "1. This\n",
    "2. Is\n",
    "3. A \n",
    "4. Numbered \n",
    "5. List\n",
    "\n",
    "Here is the [link]( https://www.youtube.com/watch?v=xvFZjo5PgG0&ab_channel=Duran)"
   ]
  }
 ],
 "metadata": {
  "kernelspec": {
   "display_name": "Python",
   "language": "python",
   "name": "conda-env-python-py"
  },
  "language_info": {
   "codemirror_mode": {
    "name": "ipython",
    "version": 3
   },
   "file_extension": ".py",
   "mimetype": "text/x-python",
   "name": "python",
   "nbconvert_exporter": "python",
   "pygments_lexer": "ipython3",
   "version": "3.7.12"
  }
 },
 "nbformat": 4,
 "nbformat_minor": 5
}
